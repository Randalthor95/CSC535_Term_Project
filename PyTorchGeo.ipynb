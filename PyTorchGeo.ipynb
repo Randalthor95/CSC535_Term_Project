{
 "cells": [
  {
   "cell_type": "code",
   "execution_count": 2,
   "metadata": {},
   "outputs": [],
   "source": [
    "import torch\n",
    "import torch_geometric\n",
    "import numpy as np\n",
    "from torch_geometric.data import Data"
   ]
  },
  {
   "cell_type": "code",
   "execution_count": 3,
   "metadata": {},
   "outputs": [],
   "source": [
    "from sklearn.feature_selection import SelectKBest, chi2"
   ]
  },
  {
   "cell_type": "markdown",
   "metadata": {},
   "source": [
    "### Read In Edge List and Transpose into COO Format"
   ]
  },
  {
   "cell_type": "code",
   "execution_count": 4,
   "metadata": {
    "scrolled": true
   },
   "outputs": [],
   "source": [
    "with open('edge_list/edge_index.txt') as edge_file:\n",
    "    edges = []\n",
    "    for line in edge_file.readlines():\n",
    "        u, v, d = line.split()\n",
    "        edges.append([int(u),int(v)])\n",
    "edge_index = torch.tensor(edges, dtype=torch.long).t().contiguous()"
   ]
  },
  {
   "cell_type": "markdown",
   "metadata": {},
   "source": [
    "### Read in Data Matrix and Convert to Torch Tensor\n",
    "\n",
    "$n x m$ matrix where $n$ is the number of states and $m$ is the number of search terms(features)."
   ]
  },
  {
   "cell_type": "code",
   "execution_count": 5,
   "metadata": {},
   "outputs": [
    {
     "name": "stdout",
     "output_type": "stream",
     "text": [
      "2020-01-22.csv 2020-02-09.csv 2020-02-27.csv 2020-03-16.csv 2020-04-03.csv\r\n",
      "2020-01-23.csv 2020-02-10.csv 2020-02-28.csv 2020-03-17.csv 2020-04-04.csv\r\n",
      "2020-01-24.csv 2020-02-11.csv 2020-02-29.csv 2020-03-18.csv 2020-04-05.csv\r\n",
      "2020-01-25.csv 2020-02-12.csv 2020-03-01.csv 2020-03-19.csv 2020-04-06.csv\r\n",
      "2020-01-26.csv 2020-02-13.csv 2020-03-02.csv 2020-03-20.csv 2020-04-07.csv\r\n",
      "2020-01-27.csv 2020-02-14.csv 2020-03-03.csv 2020-03-21.csv 2020-04-08.csv\r\n",
      "2020-01-28.csv 2020-02-15.csv 2020-03-04.csv 2020-03-22.csv 2020-04-09.csv\r\n",
      "2020-01-29.csv 2020-02-16.csv 2020-03-05.csv 2020-03-23.csv 2020-04-10.csv\r\n",
      "2020-01-30.csv 2020-02-17.csv 2020-03-06.csv 2020-03-24.csv 2020-04-11.csv\r\n",
      "2020-01-31.csv 2020-02-18.csv 2020-03-07.csv 2020-03-25.csv 2020-04-12.csv\r\n",
      "2020-02-01.csv 2020-02-19.csv 2020-03-08.csv 2020-03-26.csv 2020-04-13.csv\r\n",
      "2020-02-02.csv 2020-02-20.csv 2020-03-09.csv 2020-03-27.csv 2020-04-14.csv\r\n",
      "2020-02-03.csv 2020-02-21.csv 2020-03-10.csv 2020-03-28.csv 2020-04-15.csv\r\n",
      "2020-02-04.csv 2020-02-22.csv 2020-03-11.csv 2020-03-29.csv 2020-04-16.csv\r\n",
      "2020-02-05.csv 2020-02-23.csv 2020-03-12.csv 2020-03-30.csv\r\n",
      "2020-02-06.csv 2020-02-24.csv 2020-03-13.csv 2020-03-31.csv\r\n",
      "2020-02-07.csv 2020-02-25.csv 2020-03-14.csv 2020-04-01.csv\r\n",
      "2020-02-08.csv 2020-02-26.csv 2020-03-15.csv 2020-04-02.csv\r\n"
     ]
    }
   ],
   "source": [
    "!ls hopkins_data/cleaned"
   ]
  },
  {
   "cell_type": "code",
   "execution_count": 6,
   "metadata": {
    "scrolled": false
   },
   "outputs": [
    {
     "data": {
      "text/plain": [
       "array([[ 0.,  0.,  0., ...,  0., 11.,  0.],\n",
       "       [ 0.,  0.,  0., ...,  0.,  0.,  0.],\n",
       "       [ 0.,  0.,  0., ...,  0.,  0.,  0.],\n",
       "       ...,\n",
       "       [ 0.,  0.,  0., ...,  0.,  0.,  0.],\n",
       "       [ 0., 14.,  0., ...,  0., 10.,  0.],\n",
       "       [ 0.,  0.,  0., ...,  0.,  0.,  0.]])"
      ]
     },
     "execution_count": 6,
     "metadata": {},
     "output_type": "execute_result"
    }
   ],
   "source": [
    "nodes_props = np.loadtxt('./datesprepped/2020-01-31.csv')\n",
    "nodes_props"
   ]
  },
  {
   "cell_type": "markdown",
   "metadata": {},
   "source": [
    "### Get Hopkins Data Labels"
   ]
  },
  {
   "cell_type": "code",
   "execution_count": 7,
   "metadata": {
    "scrolled": false
   },
   "outputs": [],
   "source": [
    "# y = np.round(np.random.random(size=[51,1]) * 10) # randomly generate some cases for now\n",
    "# y = torch.tensor(y, dtype=torch.float)\n",
    "with open('./hopkins_data/cleaned/2020-01-31.csv') as fy:\n",
    "    y_arr = [int(line.split(',')[0]) for line in fy.readlines()]\n",
    "y = torch.tensor(y_arr, dtype=torch.float).reshape([51, 1])"
   ]
  },
  {
   "cell_type": "markdown",
   "metadata": {},
   "source": [
    "### Create Data Object"
   ]
  },
  {
   "cell_type": "code",
   "execution_count": 8,
   "metadata": {},
   "outputs": [],
   "source": [
    "x = torch.tensor(nodes_props.tolist(), dtype=torch.float)\n",
    "edge_index = edge_index\n",
    "data = Data(x=x, y=y, edge_index=edge_index)"
   ]
  },
  {
   "cell_type": "code",
   "execution_count": 9,
   "metadata": {
    "scrolled": true
   },
   "outputs": [
    {
     "data": {
      "text/plain": [
       "(torch.Size([51, 3243]), torch.Size([51, 1]))"
      ]
     },
     "execution_count": 9,
     "metadata": {},
     "output_type": "execute_result"
    }
   ],
   "source": [
    "data.x.shape, data.y.shape"
   ]
  },
  {
   "cell_type": "code",
   "execution_count": 10,
   "metadata": {
    "scrolled": true
   },
   "outputs": [
    {
     "data": {
      "text/plain": [
       "(51, 100)"
      ]
     },
     "execution_count": 10,
     "metadata": {},
     "output_type": "execute_result"
    }
   ],
   "source": [
    "x_new = SelectKBest(chi2, k=100).fit_transform(data.x, data.y.t().squeeze())\n",
    "x_new.shape\n",
    "# x_new = SelectKBest(chi2, k=100).fit_transform(x, data.y)\n",
    "# print(x_new.shape)"
   ]
  },
  {
   "cell_type": "markdown",
   "metadata": {},
   "source": [
    "### Creating Dataloader\n",
    "\n",
    "Now that we've created a single data object as an example we need to create a torch dataloader. This way we can batch multiple nodes together."
   ]
  },
  {
   "cell_type": "code",
   "execution_count": 11,
   "metadata": {},
   "outputs": [],
   "source": [
    "import os.path as osp\n",
    "import os\n",
    "from datetime import datetime, timedelta\n",
    "from torch_geometric.data import Dataset\n",
    "from torch_geometric.data import DataLoader\n",
    "\n",
    "\n",
    "class COVIDSearchTerms(Dataset):\n",
    "    def __init__(self, root, transform=None, pre_transform=None):\n",
    "        super(COVIDSearchTerms, self).__init__(root, transform, pre_transform)\n",
    "        self.node_files = []\n",
    "        self.target_files = []\n",
    "\n",
    "    @property\n",
    "    def raw_file_names(self):\n",
    "        self.node_files = ['x/' + f for f in os.listdir('raw/x/')]\n",
    "        self.node_files.sort(\n",
    "            key = lambda date: datetime.strptime(date.split('/')[-1].split('.')[0], '%Y-%m-%d')\n",
    "        )\n",
    "        # ensure that we only grab targets for dates we have\n",
    "        self.target_files = [\n",
    "            'y/' + f for f in\n",
    "            list(set(os.listdir('raw/y/')) & set(os.listdir('raw/x/')))\n",
    "        ]\n",
    "\n",
    "        self.target_files.sort(\n",
    "            key = lambda date: datetime.strptime(date.split('/')[-1].split('.')[0], '%Y-%m-%d')\n",
    "        )\n",
    "\n",
    "        return self.node_files + self.target_files\n",
    "\n",
    "    @property\n",
    "    def processed_file_names(self):\n",
    "        dates = os.listdir('raw/y/')\n",
    "        return dates\n",
    "\n",
    "    def download(self):\n",
    "        pass\n",
    "        # Download to `self.raw_dir`.\n",
    "\n",
    "    def process(self):\n",
    "        with open('edge_list/edge_index.txt') as edge_file:\n",
    "            edges = []\n",
    "            for line in edge_file.readlines():\n",
    "                u, v, d = line.split()\n",
    "                edges.append([int(u),int(v)])\n",
    "        edge_index = torch.tensor(edges, dtype=torch.long).t().contiguous()\n",
    "        \n",
    "        i = 0\n",
    "        for node_file in self.node_files:\n",
    "            date = node_file.split('/')[-1].split('.')[0]\n",
    "            week_forward = datetime.strptime(date, '%Y-%m-%d') + timedelta(weeks=1)\n",
    "            x = torch.tensor(np.loadtxt('raw/' + node_file).tolist(), dtype=torch.float)\n",
    "            \n",
    "            with open('raw/y/' + date + '.csv') as fy:\n",
    "                hk_data_arr = [int(line.split(',')[0]) for line in fy.readlines()]\n",
    "            hk_data_arr = torch.tensor(hk_data_arr, dtype=torch.float).reshape([51, 1])\n",
    "            \n",
    "            x = torch.cat([x, hk_data_arr], dim=1)\n",
    "            \n",
    "            with open('raw/y/' + week_forward.strftime('%Y-%m-%d') + '.csv') as fy:\n",
    "                y_arr = [int(line.split(',')[0]) for line in fy.readlines()]\n",
    "            y = torch.tensor(y_arr, dtype=torch.float).reshape([1, 51])\n",
    "            edge_index = edge_index\n",
    "            # Read data from `raw_path`.\n",
    "            data = Data(x=x, y=y, edge_index=edge_index)\n",
    "            data.current_y = hk_data_arr\n",
    "\n",
    "            if self.pre_filter is not None and not self.pre_filter(data):\n",
    "                continue\n",
    "\n",
    "            if self.pre_transform is not None:\n",
    "                data = self.pre_transform(data)\n",
    "            torch.save(data, osp.join(self.processed_dir, 'data-{}.pt'.format(i)))\n",
    "            i = i + 1\n",
    "\n",
    "    def len(self):\n",
    "        return 57\n",
    "\n",
    "    def get(self, idx):\n",
    "        data = torch.load(osp.join(self.processed_dir, 'data-{}.pt'.format(idx)))\n",
    "        return data"
   ]
  },
  {
   "cell_type": "markdown",
   "metadata": {},
   "source": [
    "### Example Network Structure"
   ]
  },
  {
   "cell_type": "code",
   "execution_count": 12,
   "metadata": {},
   "outputs": [],
   "source": [
    "'''\n",
    "    Network structure taken from example:\n",
    "    https://towardsdatascience.com/hands-on-graph-neural-networks-with-pytorch-pytorch-geometric-359487e221a8\n",
    "'''\n",
    "\n",
    "feature_dim = data.num_node_features # should be 3243 for the number of queries\n",
    "from torch_geometric.nn import TopKPooling, SAGEConv, GCNConv\n",
    "from torch_geometric.nn import global_mean_pool as gap, global_max_pool as gmp\n",
    "\n",
    "import torch.nn.functional as F\n",
    "class GraphNetV1(torch.nn.Module):\n",
    "    def __init__(self, convs=[(100,100), (100,100)], lin=[(100, 10), (10, 1)]):\n",
    "        super(GraphNetV1, self).__init__()\n",
    "        self.convolutions=torch.nn.ModuleList([GCNConv(*c) for c in convs])\n",
    "        self.linear_layers=torch.nn.ModuleList([torch.nn.Linear(*l) for l in lin])\n",
    "        self.activations=torch.nn.ModuleList([torch.nn.ReLU() for n in lin])\n",
    "        \n",
    "  \n",
    "    def forward(self, data):\n",
    "        x, edge_index, batch = data.x, data.edge_index, data.batch\n",
    "        \n",
    "        # Normalize values?\n",
    "        nm = torch.norm(x).detach()\n",
    "        x = x.div(nm.expand_as(x))\n",
    "                \n",
    "        x = torch.tensor(\n",
    "            SelectKBest(chi2, k=100).fit_transform(data.x, data.current_y.t().squeeze()),\n",
    "            dtype=torch.float\n",
    "        )\n",
    "        # Run graph convolutions\n",
    "        for gcon in self.convolutions:\n",
    "            x = gcon(x, edge_index)\n",
    "        \n",
    "        # Run linear layers\n",
    "        i = 0\n",
    "        for lin, act in zip(self.linear_layers, self.activations):\n",
    "            x = lin(x)\n",
    "            if i < len(self.linear_layers)-1:\n",
    "                x = act(x)\n",
    "            else:\n",
    "                break\n",
    "            i = i + 1\n",
    "        \n",
    "        # Transpose x on the return?\n",
    "        return x.t()"
   ]
  },
  {
   "cell_type": "markdown",
   "metadata": {},
   "source": [
    "### Example feed forward of the network"
   ]
  },
  {
   "cell_type": "code",
   "execution_count": 13,
   "metadata": {
    "scrolled": true
   },
   "outputs": [
    {
     "name": "stdout",
     "output_type": "stream",
     "text": [
      "Processing...\n",
      "Done!\n"
     ]
    }
   ],
   "source": [
    "dataset = COVIDSearchTerms('.')"
   ]
  },
  {
   "cell_type": "code",
   "execution_count": 18,
   "metadata": {
    "scrolled": true
   },
   "outputs": [
    {
     "name": "stdout",
     "output_type": "stream",
     "text": [
      "10.0\n",
      "20.0\n",
      "30.0\n",
      "40.0\n",
      "50.0\n",
      "60.0\n",
      "70.0\n",
      "80.0\n",
      "90.0\n",
      "100.0\n"
     ]
    }
   ],
   "source": [
    "def train():\n",
    "    model.train()\n",
    "\n",
    "    losses = []\n",
    "    for data in train_loader:\n",
    "        data = data.to(device)\n",
    "        optimizer.zero_grad()\n",
    "        output = model(data).reshape((10,51))\n",
    "#         print(output.reshape((10, 51)).shape)\n",
    "#         print(data.y.shape)\n",
    "        label = data.y.to(device)\n",
    "        loss = crit(output, label)\n",
    "        losses.append(loss)\n",
    "        loss.backward()\n",
    "#         loss_all += data.num_graphs * loss.item()\n",
    "        optimizer.step()\n",
    "    return losses\n",
    "\n",
    "batch_size=10\n",
    "train_data = dataset[:50]\n",
    "valid_data = dataset[50:]\n",
    "device = torch.device('cpu')\n",
    "# model = GraphNetV1(\n",
    "#     convs=[(100, 100), (100, 100), (100, 100)],\n",
    "#     lin=[(100, 100), (100, 100), (100, 75), (75, 50), \n",
    "#          (50, 50), (50, 25), (25, 10), (10, 5), (5, 1)]\n",
    "# ).to(device)\n",
    "\n",
    "model = GraphNetV1(\n",
    "    convs=[],\n",
    "    lin=[(100, 100), (100, 100), (100, 75), (75, 50), \n",
    "         (50, 50), (50, 25), (25, 10), (10, 5), (5, 1)]\n",
    ").to(device)\n",
    "# RENet(num_nodes, num_rels, hidden_channels, seq_len, num_layers=1, dropout=0.0, bias=True)\n",
    "# model = torch_geometric.nn.RENet(51, edge_index.shape[-1], 100, 20, num_layers=3)\n",
    "optimizer = torch.optim.Adam(model.parameters(), lr=0.005)\n",
    "crit = torch.nn.L1Loss()\n",
    "train_loader = DataLoader(train_data, batch_size=batch_size)\n",
    "\n",
    "\n",
    "losses = []\n",
    "i = 1\n",
    "for epoch in range(10):\n",
    "    losses.append(train())\n",
    "    print((i / 10) * 100)\n",
    "    i = i + 1"
   ]
  },
  {
   "cell_type": "code",
   "execution_count": 20,
   "metadata": {
    "scrolled": true
   },
   "outputs": [
    {
     "name": "stdout",
     "output_type": "stream",
     "text": [
      "(10,)\n"
     ]
    },
    {
     "data": {
      "image/png": "[encoded data removed]",
      "text/plain": [
       "<Figure size 432x288 with 1 Axes>"
      ]
     },
     "metadata": {
      "needs_background": "light"
     },
     "output_type": "display_data"
    },
    {
     "name": "stdout",
     "output_type": "stream",
     "text": [
      "(10,)\n"
     ]
    },
    {
     "data": {
      "image/png": "[encoded data removed]",
      "text/plain": [
       "<Figure size 432x288 with 1 Axes>"
      ]
     },
     "metadata": {
      "needs_background": "light"
     },
     "output_type": "display_data"
    },
    {
     "name": "stdout",
     "output_type": "stream",
     "text": [
      "(10,)\n"
     ]
    },
    {
     "data": {
      "image/png": "[encoded data removed]",
      "text/plain": [
       "<Figure size 432x288 with 1 Axes>"
      ]
     },
     "metadata": {
      "needs_background": "light"
     },
     "output_type": "display_data"
    },
    {
     "name": "stdout",
     "output_type": "stream",
     "text": [
      "(10,)\n"
     ]
    },
    {
     "data": {
      "image/png": "[encoded data removed]",
      "text/plain": [
       "<Figure size 432x288 with 1 Axes>"
      ]
     },
     "metadata": {
      "needs_background": "light"
     },
     "output_type": "display_data"
    },
    {
     "name": "stdout",
     "output_type": "stream",
     "text": [
      "(9,)\n"
     ]
    },
    {
     "data": {
      "image/png": "[encoded data removed]",
      "text/plain": [
       "<Figure size 432x288 with 1 Axes>"
      ]
     },
     "metadata": {
      "needs_background": "light"
     },
     "output_type": "display_data"
    },
    {
     "name": "stdout",
     "output_type": "stream",
     "text": [
      "(10,)\n"
     ]
    },
    {
     "data": {
      "image/png": "[encoded data removed]",
      "text/plain": [
       "<Figure size 432x288 with 1 Axes>"
      ]
     },
     "metadata": {
      "needs_background": "light"
     },
     "output_type": "display_data"
    },
    {
     "name": "stdout",
     "output_type": "stream",
     "text": [
      "(9,)\n"
     ]
    },
    {
     "data": {
      "image/png": "[encoded data removed]",
      "text/plain": [
       "<Figure size 432x288 with 1 Axes>"
      ]
     },
     "metadata": {
      "needs_background": "light"
     },
     "output_type": "display_data"
    }
   ],
   "source": [
    "import matplotlib.pyplot as plt\n",
    "\n",
    "dataset = COVIDSearchTerms('.')\n",
    "valid_data = dataset[50:]\n",
    "device = torch.device('cpu')\n",
    "validation_loader = DataLoader(valid_data, batch_size=1)\n",
    "for data in validation_loader:\n",
    "    output = model(data).detach().numpy().squeeze()\n",
    "    label = data.y.to(device).numpy().squeeze()\n",
    "    top10_act = (-label).argsort()[:10]\n",
    "    top10_pred = (-output).argsort()[:10]\n",
    "    print(np.intersect1d(top10_act, top10_pred).shape)\n",
    "    plt.scatter(np.arange(51), label, c=\"r\", label=\"actual\")\n",
    "    plt.scatter(np.arange(51), output, c=\"b\", label=\"predicted\")\n",
    "    plt.xlabel(\"States\")\n",
    "    plt.ylabel(\"Number of Cases a Week Later\")\n",
    "    plt.legend(loc=\"lower left\")\n",
    "    plt.show()\n",
    "    "
   ]
  },
  {
   "cell_type": "code",
   "execution_count": null,
   "metadata": {
    "scrolled": true
   },
   "outputs": [],
   "source": [
    "import matplotlib.pyplot as plt\n",
    "i = 0\n",
    "for data in train_loader:\n",
    "    x = torch.sum(data.x, dim=1)\n",
    "    y = data.y\n",
    "    i = i + 1\n",
    "    if i == 30:\n",
    "        print(x.shape, torch.squeeze(y).shape)\n",
    "        plt.scatter(x, y)\n",
    "        plt.xlabel('Term Score - Summed Term Counts')\n",
    "        plt.ylabel('Number of Cases - A Week Later')\n",
    "        plt.show()\n",
    "    else:\n",
    "        continue"
   ]
  },
  {
   "cell_type": "code",
   "execution_count": null,
   "metadata": {},
   "outputs": [],
   "source": [
    "import matplotlib.pyplot as plt\n",
    "\n",
    "class Net(torch.nn.Module):\n",
    "    def __init__(self):\n",
    "        super(Net, self).__init__()\n",
    "        self.lin1 = torch.nn.Linear(51, 51)\n",
    "        self.act1 = torch.nn.Tanh()\n",
    "        self.lin2 = torch.nn.Linear(51, 51)\n",
    "        self.act2 = torch.nn.ReLU()\n",
    "        self.lin3 = torch.nn.Linear(51, 51)\n",
    "\n",
    "    def forward(self, data):\n",
    "        # Aggregate feature counts\n",
    "        x = torch.sum(data.x, dim=1)\n",
    "        x = self.lin1(x)\n",
    "        x = self.act1(x)\n",
    "        x = self.lin2(x)\n",
    "        x = self.act2(x)\n",
    "        x = self.lin3(x)\n",
    "        return x\n",
    "    \n",
    "model = Net().to(device)\n",
    "crit = torch.nn.L1Loss()\n",
    "optimizer = torch.optim.Adam(model.parameters(), lr=0.005)\n",
    "\n",
    "for i in range(0, 200):\n",
    "    for data in train_loader:\n",
    "        output = model(data)\n",
    "        label = torch.squeeze(data.y).to(device)\n",
    "        loss = crit(output, label)\n",
    "        optimizer.zero_grad()\n",
    "        loss.backward()\n",
    "        optimizer.step()\n",
    "    if i % 10 == 0:\n",
    "        print(\"Finished epoch...\", i)"
   ]
  },
  {
   "cell_type": "code",
   "execution_count": null,
   "metadata": {},
   "outputs": [],
   "source": [
    "i = 0\n",
    "for data in train_loader:\n",
    "    i = i + 1\n",
    "    if i == 30:\n",
    "        x = torch.sum(data.x, dim=1)\n",
    "        predict = model(data).detach()\n",
    "        lab = torch.squeeze(data.y)\n",
    "        print(predict, lab)\n",
    "        plt.scatter(x, lab.numpy(), c=\"r\", label=\"actual\")\n",
    "        plt.scatter(x, predict.numpy(), c=\"b\", label=\"predicted\")\n",
    "        plt.xlabel(\"Term Count Score -- Summed Terms\")\n",
    "        plt.ylabel(\"Number of Cases a Week Later\")\n",
    "        plt.legend(loc=\"lower left\")\n",
    "        plt.show()\n",
    "    else:\n",
    "        continue"
   ]
  },
  {
   "cell_type": "code",
   "execution_count": null,
   "metadata": {},
   "outputs": [],
   "source": [
    "'''\n",
    "    Network structure taken from example:\n",
    "    https://towardsdatascience.com/hands-on-graph-neural-networks-with-pytorch-pytorch-geometric-359487e221a8\n",
    "'''\n",
    "\n",
    "feature_dim = data.num_node_features # should be 3243 for the number of queries\n",
    "from torch.nn import LSTM\n",
    "from torch_geometric.nn import TopKPooling, SAGEConv, GCNConv\n",
    "from torch_geometric.nn import global_mean_pool as gap, global_max_pool as gmp\n",
    "\n",
    "import torch.nn.functional as F\n",
    "class Net(torch.nn.Module):\n",
    "    def __init__(self):\n",
    "        super(Net, self).__init__()\n",
    "        self.lin1 = torch.nn.Linear(feature_dim+1, 2000)\n",
    "        self.act1 = torch.nn.ReLU()\n",
    "        \n",
    "        self.lin2 = torch.nn.Linear(2000, 1000)\n",
    "        self.act2 = torch.nn.ReLU()\n",
    "        \n",
    "        self.lin3 = torch.nn.Linear(1000, 500)\n",
    "        self.act3 = torch.nn.ReLU() \n",
    "        \n",
    "        self.lin4 = torch.nn.Linear(500, 250)\n",
    "        self.act4 = torch.nn.ReLU()\n",
    "        \n",
    "        self.lin5 = torch.nn.Linear(250, 100)\n",
    "        self.act5 = torch.nn.ReLU()\n",
    "        \n",
    "        self.lin6 = torch.nn.Linear(100, 10)\n",
    "        self.act6 = torch.nn.ReLU()\n",
    "        \n",
    "        self.lin7 = torch.nn.Linear(10, 1)\n",
    "        self.act7 = torch.nn.ReLU()\n",
    "\n",
    "        \n",
    "  \n",
    "    def forward(self, data):\n",
    "        x, edge_index, batch = data.x, data.edge_index, data.batch\n",
    "\n",
    "        nm = torch.norm(x).detach()\n",
    "        x = x.div(nm.expand_as(x))\n",
    "        \n",
    "        x = self.lin1(x)\n",
    "        x = self.act1(x)\n",
    "        \n",
    "        x = self.lin2(x)\n",
    "        x = self.act2(x)\n",
    "        \n",
    "        x = self.lin3(x)\n",
    "        x = self.act3(x)\n",
    "        \n",
    "        x = self.lin4(x)\n",
    "        x = self.act4(x)\n",
    "        \n",
    "        x = self.lin5(x)\n",
    "        x = self.act5(x)\n",
    "        \n",
    "        x = self.lin6(x)\n",
    "        x = self.act6(x)\n",
    "        \n",
    "        x = self.lin7(x)\n",
    "        # shape of x will be \n",
    "        \n",
    "        return x.t()"
   ]
  },
  {
   "cell_type": "code",
   "execution_count": null,
   "metadata": {},
   "outputs": [],
   "source": []
  }
 ],
 "metadata": {
  "kernelspec": {
   "display_name": "Python 3",
   "language": "python",
   "name": "python3"
  },
  "language_info": {
   "codemirror_mode": {
    "name": "ipython",
    "version": 3
   },
   "file_extension": ".py",
   "mimetype": "text/x-python",
   "name": "python",
   "nbconvert_exporter": "python",
   "pygments_lexer": "ipython3",
   "version": "3.6.1"
  }
 },
 "nbformat": 4,
 "nbformat_minor": 2
}
